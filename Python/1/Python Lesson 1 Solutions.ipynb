{
 "cells": [
  {
   "cell_type": "markdown",
   "metadata": {},
   "source": [
    "Question: why variable is useful: A lot of time we have to repeatedly use a value, assigning it to a variable makes the recyclying easy"
   ]
  },
  {
   "cell_type": "code",
   "execution_count": 5,
   "metadata": {},
   "outputs": [
    {
     "data": {
      "text/plain": [
       "10"
      ]
     },
     "execution_count": 5,
     "metadata": {},
     "output_type": "execute_result"
    }
   ],
   "source": [
    "# create a list of 10 arbitrary numeric elements, assign it to a variable \"myfirstlist\"\n",
    "myfirstlist = [2,3,4,1,5,3,32,54,65,1]\n",
    "len(myfirstlist)"
   ]
  },
  {
   "cell_type": "code",
   "execution_count": 6,
   "metadata": {},
   "outputs": [
    {
     "data": {
      "text/plain": [
       "[2, 3, 4, 1, 5, 3, 32, 54, 65, 1, 999]"
      ]
     },
     "execution_count": 6,
     "metadata": {},
     "output_type": "execute_result"
    }
   ],
   "source": [
    "# append another numeric value to the list.\n",
    "myfirstlist.append(999)\n",
    "myfirstlist"
   ]
  },
  {
   "cell_type": "code",
   "execution_count": 7,
   "metadata": {},
   "outputs": [
    {
     "data": {
      "text/plain": [
       "[2, 3, 4, 1, 5, 3, 32, 54, 65, 1]"
      ]
     },
     "execution_count": 7,
     "metadata": {},
     "output_type": "execute_result"
    }
   ],
   "source": [
    "# remove the last value from the list\n",
    "myfirstlist.pop()\n",
    "myfirstlist"
   ]
  },
  {
   "cell_type": "code",
   "execution_count": 9,
   "metadata": {},
   "outputs": [
    {
     "data": {
      "text/plain": [
       "[0, 1, 2, 3, 4]"
      ]
     },
     "execution_count": 9,
     "metadata": {},
     "output_type": "execute_result"
    }
   ],
   "source": [
    "# create another list of 5 arbitrary numeric elements, assign it to variable \"anotherlist\"\n",
    "anotherlist = list(range(5))\n",
    "anotherlist"
   ]
  },
  {
   "cell_type": "code",
   "execution_count": 11,
   "metadata": {},
   "outputs": [
    {
     "name": "stdout",
     "output_type": "stream",
     "text": [
      "2\n",
      "[2, 3, 4, 1, 5, 3, 32, 54, 65]\n",
      "[2, 4, 5, 32, 65]\n",
      "1\n",
      "65\n"
     ]
    }
   ],
   "source": [
    "print(myfirstlist[0])\n",
    "print(myfirstlist[0:9])\n",
    "print(myfirstlist[0:9:2])\n",
    "print(myfirstlist[-1])\n",
    "print(myfirstlist[-2])"
   ]
  },
  {
   "cell_type": "code",
   "execution_count": 12,
   "metadata": {},
   "outputs": [
    {
     "data": {
      "text/plain": [
       "[2, 3, 4, 1, 5, 3, 32, 54, 65, 1, 0, 1, 2, 3, 4]"
      ]
     },
     "execution_count": 12,
     "metadata": {},
     "output_type": "execute_result"
    }
   ],
   "source": [
    "myfirstlist + anotherlist # this is called concatenation"
   ]
  },
  {
   "cell_type": "code",
   "execution_count": 13,
   "metadata": {},
   "outputs": [
    {
     "name": "stdout",
     "output_type": "stream",
     "text": [
      "[0, 1, 2, 3, 4, 0, 1, 2, 3, 4, 0, 1, 2, 3, 4]\n"
     ]
    }
   ],
   "source": [
    "next_list = anotherlist * 3\n",
    "print(nextlist)"
   ]
  },
  {
   "cell_type": "code",
   "execution_count": 18,
   "metadata": {},
   "outputs": [
    {
     "data": {
      "text/plain": [
       "[[0, 1, 2, 3, 4], [0, 1, 2, 3, 4], [0, 1, 2, 3, 4]]"
      ]
     },
     "execution_count": 18,
     "metadata": {},
     "output_type": "execute_result"
    }
   ],
   "source": [
    "# nested list\n",
    "last_list = [anotherlist,anotherlist, anotherlist]\n",
    "last_list"
   ]
  },
  {
   "cell_type": "code",
   "execution_count": 20,
   "metadata": {},
   "outputs": [
    {
     "name": "stdout",
     "output_type": "stream",
     "text": [
      "[[12345, 1, 2, 3, 4], [12345, 1, 2, 3, 4], [12345, 1, 2, 3, 4]]\n"
     ]
    }
   ],
   "source": [
    "last_list[0][0] = 12345\n",
    "print(last_list)"
   ]
  },
  {
   "cell_type": "markdown",
   "metadata": {},
   "source": [
    " "
   ]
  },
  {
   "cell_type": "code",
   "execution_count": 21,
   "metadata": {},
   "outputs": [
    {
     "data": {
      "text/plain": [
       "[0, 10, 20, 30, 40, 50, 60, 70, 80, 90, 100]"
      ]
     },
     "execution_count": 21,
     "metadata": {},
     "output_type": "execute_result"
    }
   ],
   "source": [
    "list_here = list(range(0, 101, 10)) # create this list\n",
    "list_here"
   ]
  },
  {
   "cell_type": "code",
   "execution_count": 23,
   "metadata": {},
   "outputs": [
    {
     "name": "stdout",
     "output_type": "stream",
     "text": [
      "0\n",
      "not multiple of 3\n",
      "not multiple of 3\n",
      "30\n",
      "not multiple of 3\n",
      "not multiple of 3\n",
      "60\n",
      "not multiple of 3\n",
      "not multiple of 3\n",
      "90\n",
      "not multiple of 3\n"
     ]
    }
   ],
   "source": [
    "# Using a for-loop, print only the values that are multiples of 3\n",
    "for lol in list_here:\n",
    "    if lol % 3 == 0:\n",
    "        print(lol)\n",
    "    else:\n",
    "        print(\"not multiple of 3\")"
   ]
  },
  {
   "cell_type": "code",
   "execution_count": 24,
   "metadata": {},
   "outputs": [
    {
     "name": "stdout",
     "output_type": "stream",
     "text": [
      "[5, 15, 25, 35, 45, 55, 65, 75, 85, 95, 105]\n"
     ]
    }
   ],
   "source": [
    "# Using a for-loop, add 5 to each value in the list - hint: \"for i in range(11)\"\n",
    "for i in range(11):\n",
    "    list_here[i] += 5 # list_here[i] = list_here[i] + 5\n",
    "\n",
    "print(list_here)"
   ]
  },
  {
   "cell_type": "code",
   "execution_count": 27,
   "metadata": {},
   "outputs": [
    {
     "name": "stdout",
     "output_type": "stream",
     "text": [
      "range(0, 10)\n",
      "[0, 1, 2, 3, 4, 5, 6, 7, 8, 9]\n"
     ]
    },
    {
     "data": {
      "text/plain": [
       "range"
      ]
     },
     "execution_count": 27,
     "metadata": {},
     "output_type": "execute_result"
    }
   ],
   "source": [
    "# take a look inside range\n",
    "ran = range(10)\n",
    "print(ran)\n",
    "print(list(ran))\n",
    "type(ran)"
   ]
  },
  {
   "cell_type": "code",
   "execution_count": 29,
   "metadata": {},
   "outputs": [
    {
     "name": "stdout",
     "output_type": "stream",
     "text": [
      "4\n"
     ]
    }
   ],
   "source": [
    "# using a while-loop, find out how many elements from the list are smaller than 40\n",
    "count = 0 # keep count\n",
    "i = 0 # track index\n",
    "\n",
    "while list_here[i] < 40:\n",
    "    count += 1\n",
    "    i += 1\n",
    "\n",
    "print(count)"
   ]
  },
  {
   "cell_type": "markdown",
   "metadata": {},
   "source": [
    " "
   ]
  },
  {
   "cell_type": "code",
   "execution_count": 2,
   "metadata": {},
   "outputs": [],
   "source": [
    "def factorial(x):\n",
    "    if x > 0:\n",
    "        fact = x # short for factorial, set initial value as x\n",
    "        i = x - 1 # the next value to be multiply over\n",
    "\n",
    "        if i > 1:\n",
    "            fact *= i\n",
    "            i -= 1\n",
    "        return(fact)\n",
    "    elif x == 0:\n",
    "        return(1)\n",
    "    else:\n",
    "        return(\"not defined for negative values\")"
   ]
  },
  {
   "cell_type": "code",
   "execution_count": 4,
   "metadata": {},
   "outputs": [
    {
     "data": {
      "text/plain": [
       "6"
      ]
     },
     "execution_count": 4,
     "metadata": {},
     "output_type": "execute_result"
    }
   ],
   "source": [
    "factorial(3)"
   ]
  },
  {
   "cell_type": "markdown",
   "metadata": {},
   "source": [
    " "
   ]
  },
  {
   "cell_type": "code",
   "execution_count": 43,
   "metadata": {},
   "outputs": [],
   "source": [
    "import pandas as pd\n",
    "avocado_df = pd.read_csv(\"avocado.csv\")"
   ]
  },
  {
   "cell_type": "code",
   "execution_count": 44,
   "metadata": {},
   "outputs": [
    {
     "data": {
      "text/plain": [
       "9411"
      ]
     },
     "execution_count": 44,
     "metadata": {},
     "output_type": "execute_result"
    }
   ],
   "source": [
    "count = 0\n",
    "for x in avocado_df.AveragePrice:\n",
    "    if x > 1.35:\n",
    "        count += 1\n",
    "count"
   ]
  },
  {
   "cell_type": "code",
   "execution_count": 45,
   "metadata": {},
   "outputs": [
    {
     "name": "stdout",
     "output_type": "stream",
     "text": [
      "mean=1.4059784097758825, median=1.37, sd=0.40267655549555004\n"
     ]
    }
   ],
   "source": [
    "def mms(column):\n",
    "    mean = column.mean()\n",
    "    median = column.median()\n",
    "    standard_deviation = column.std()\n",
    "    print(\"mean=\" + str(mean) + \", median=\" + str(median) + \", sd=\" + str(standard_deviation))\n",
    "\n",
    "mms(avocado_df.AveragePrice)"
   ]
  },
  {
   "cell_type": "code",
   "execution_count": 46,
   "metadata": {},
   "outputs": [
    {
     "name": "stdout",
     "output_type": "stream",
     "text": [
      "for Total Bags:\n",
      "mean=239639.20205983953, median=39743.83, sd=986242.3992164129\n",
      "for Small Bags:\n",
      "mean=182194.68669571026, median=26362.82, sd=746178.5149617859\n",
      "for Large Bags:\n",
      "mean=54338.08814455636, median=2647.71, sd=243965.9645474206\n"
     ]
    }
   ],
   "source": [
    "names = [\"Total Bags\", \"Small Bags\", \"Large Bags\"]\n",
    "\n",
    "for i in range(3):\n",
    "    print(\"for \" + names[i] + \":\")\n",
    "    mms(avocado_df[names[i]])"
   ]
  },
  {
   "cell_type": "code",
   "execution_count": null,
   "metadata": {},
   "outputs": [],
   "source": []
  }
 ],
 "metadata": {
  "kernelspec": {
   "display_name": "Python 3",
   "language": "python",
   "name": "python3"
  },
  "language_info": {
   "codemirror_mode": {
    "name": "ipython",
    "version": 3
   },
   "file_extension": ".py",
   "mimetype": "text/x-python",
   "name": "python",
   "nbconvert_exporter": "python",
   "pygments_lexer": "ipython3",
   "version": "3.7.1"
  }
 },
 "nbformat": 4,
 "nbformat_minor": 2
}
